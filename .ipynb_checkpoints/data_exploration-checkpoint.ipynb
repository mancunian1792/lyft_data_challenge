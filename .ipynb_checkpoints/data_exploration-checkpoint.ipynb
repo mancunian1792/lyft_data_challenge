{
 "cells": [
  {
   "cell_type": "markdown",
   "metadata": {},
   "source": [
    "### TeamName: 500 days of training"
   ]
  },
  {
   "cell_type": "code",
   "execution_count": 28,
   "metadata": {},
   "outputs": [],
   "source": [
    "import pandas as pd\n",
    "import numpy as np\n",
    "import matplotlib.pyplot as plt\n",
    "import seaborn as sns"
   ]
  },
  {
   "cell_type": "code",
   "execution_count": 29,
   "metadata": {},
   "outputs": [],
   "source": [
    "# Importing all the csv as dataframes\n",
    "\n",
    "ride_ids = pd.read_csv(\"./ride_ids.csv\")\n",
    "driver_ids = pd.read_csv(\"./driver_ids.csv\")\n",
    "driver_timestamps = pd.read_csv(\"./ride_timestamps.csv\")"
   ]
  },
  {
   "cell_type": "markdown",
   "metadata": {},
   "source": [
    "# Questions asked and their progress\n",
    "1. Number of rides - Cumulative - In Progress\n",
    "2. Number of rides each day - In Progress\n",
    "3. Time for the first ride from onboard - Not started\n",
    "4.  Time at which rides were taken - More exploratory related to the timings \n",
    "5. (What is ride prime time and questions around that) - Surcharge.. cost of a ride changed according to prime time\n",
    "6. Questions around distance- More exploratory\n",
    "7. Percentage of prime time in the ride (Cumulative percentage etc) \n",
    "8. Time between accepting the ride and the arriving .- Done w.r.t data. Need to explore\n",
    "9. Travel time - More exploratory\n",
    "10. Compute value of a ride - Done\n"
   ]
  },
  {
   "cell_type": "code",
   "execution_count": 30,
   "metadata": {},
   "outputs": [],
   "source": [
    "# Supporting functions\n",
    "\n",
    "def costOfTrip(dist, time, prime_time):\n",
    "    service_charge = 1.75\n",
    "    base_cost = 2\n",
    "    cost_by_dist = (dist* 0.000621371) * 1.15\n",
    "    cost_by_time = time * (0.22/60)\n",
    "    cost_prime_time = prime_time * (0.22/60)\n",
    "    total_cost = service_charge + base_cost + cost_by_dist + cost_by_time + cost_prime_time\n",
    "    if total_cost < 5:\n",
    "        return 5\n",
    "    if total_cost > 400:\n",
    "        return 400\n",
    "    return total_cost\n"
   ]
  },
  {
   "cell_type": "code",
   "execution_count": 31,
   "metadata": {},
   "outputs": [],
   "source": [
    "ride_ids[\"trip_cost\"] = ride_ids.apply(lambda x: costOfTrip(x[\"ride_distance\"], x[\"ride_duration\"], x[\"ride_prime_time\"]), axis=1)\n"
   ]
  },
  {
   "cell_type": "code",
   "execution_count": 32,
   "metadata": {},
   "outputs": [],
   "source": [
    "total_trips = ride_ids.groupby('driver_id').size().reset_index(drop=False)\n",
    "total_trips.columns = [\"driver_id\", \"total_trips\"]\n",
    "grp_sum = ride_ids.groupby('driver_id').cumsum().set_index(ride_ids.driver_id).reset_index(drop=True)\n",
    "grp_sum.columns = [\"cumulative_ride_distance\", \"cumulative_ride_duration\", \"cumulative_ride_prime_time\", \"cumulative_trip_cost\"]"
   ]
  },
  {
   "cell_type": "code",
   "execution_count": 33,
   "metadata": {},
   "outputs": [],
   "source": [
    "ride_ids[grp_sum.columns] = grp_sum"
   ]
  },
  {
   "cell_type": "code",
   "execution_count": 37,
   "metadata": {},
   "outputs": [
    {
     "data": {
      "text/html": [
       "<div>\n",
       "<style scoped>\n",
       "    .dataframe tbody tr th:only-of-type {\n",
       "        vertical-align: middle;\n",
       "    }\n",
       "\n",
       "    .dataframe tbody tr th {\n",
       "        vertical-align: top;\n",
       "    }\n",
       "\n",
       "    .dataframe thead th {\n",
       "        text-align: right;\n",
       "    }\n",
       "</style>\n",
       "<table border=\"1\" class=\"dataframe\">\n",
       "  <thead>\n",
       "    <tr style=\"text-align: right;\">\n",
       "      <th></th>\n",
       "      <th>driver_id</th>\n",
       "      <th>ride_id</th>\n",
       "      <th>ride_distance</th>\n",
       "      <th>ride_duration</th>\n",
       "      <th>ride_prime_time</th>\n",
       "      <th>trip_cost</th>\n",
       "      <th>cumulative_ride_distance</th>\n",
       "      <th>cumulative_ride_duration</th>\n",
       "      <th>cumulative_ride_prime_time</th>\n",
       "      <th>cumulative_trip_cost</th>\n",
       "    </tr>\n",
       "  </thead>\n",
       "  <tbody>\n",
       "    <tr>\n",
       "      <th>193497</th>\n",
       "      <td>ffff51a71f2f185ec5e97d59dbcd7a78</td>\n",
       "      <td>fc717192b3512767269ff5a54b97af05</td>\n",
       "      <td>10127</td>\n",
       "      <td>1336</td>\n",
       "      <td>0</td>\n",
       "      <td>15.885184</td>\n",
       "      <td>2357560</td>\n",
       "      <td>265655</td>\n",
       "      <td>6525</td>\n",
       "      <td>3906.194906</td>\n",
       "    </tr>\n",
       "    <tr>\n",
       "      <th>193498</th>\n",
       "      <td>ffff51a71f2f185ec5e97d59dbcd7a78</td>\n",
       "      <td>fd6fa5f9265d2cf83936ead663f9e0e7</td>\n",
       "      <td>1908</td>\n",
       "      <td>445</td>\n",
       "      <td>0</td>\n",
       "      <td>6.745079</td>\n",
       "      <td>2359468</td>\n",
       "      <td>266100</td>\n",
       "      <td>6525</td>\n",
       "      <td>3912.939985</td>\n",
       "    </tr>\n",
       "    <tr>\n",
       "      <th>193499</th>\n",
       "      <td>ffff51a71f2f185ec5e97d59dbcd7a78</td>\n",
       "      <td>fe0857c43025264d337dfe1d8463e503</td>\n",
       "      <td>4039</td>\n",
       "      <td>875</td>\n",
       "      <td>0</td>\n",
       "      <td>9.844508</td>\n",
       "      <td>2363507</td>\n",
       "      <td>266975</td>\n",
       "      <td>6525</td>\n",
       "      <td>3922.784493</td>\n",
       "    </tr>\n",
       "    <tr>\n",
       "      <th>193500</th>\n",
       "      <td>ffff51a71f2f185ec5e97d59dbcd7a78</td>\n",
       "      <td>ff0db0ca4557bf5b05b4da6f660a1ac1</td>\n",
       "      <td>4760</td>\n",
       "      <td>777</td>\n",
       "      <td>0</td>\n",
       "      <td>10.000385</td>\n",
       "      <td>2368267</td>\n",
       "      <td>267752</td>\n",
       "      <td>6525</td>\n",
       "      <td>3932.784878</td>\n",
       "    </tr>\n",
       "    <tr>\n",
       "      <th>193501</th>\n",
       "      <td>ffff51a71f2f185ec5e97d59dbcd7a78</td>\n",
       "      <td>ff7dc29693f8c79ff103d350a7b6c157</td>\n",
       "      <td>3751</td>\n",
       "      <td>889</td>\n",
       "      <td>100</td>\n",
       "      <td>10.056710</td>\n",
       "      <td>2372018</td>\n",
       "      <td>268641</td>\n",
       "      <td>6625</td>\n",
       "      <td>3942.841588</td>\n",
       "    </tr>\n",
       "  </tbody>\n",
       "</table>\n",
       "</div>"
      ],
      "text/plain": [
       "                               driver_id                           ride_id  \\\n",
       "193497  ffff51a71f2f185ec5e97d59dbcd7a78  fc717192b3512767269ff5a54b97af05   \n",
       "193498  ffff51a71f2f185ec5e97d59dbcd7a78  fd6fa5f9265d2cf83936ead663f9e0e7   \n",
       "193499  ffff51a71f2f185ec5e97d59dbcd7a78  fe0857c43025264d337dfe1d8463e503   \n",
       "193500  ffff51a71f2f185ec5e97d59dbcd7a78  ff0db0ca4557bf5b05b4da6f660a1ac1   \n",
       "193501  ffff51a71f2f185ec5e97d59dbcd7a78  ff7dc29693f8c79ff103d350a7b6c157   \n",
       "\n",
       "        ride_distance  ride_duration  ride_prime_time  trip_cost  \\\n",
       "193497          10127           1336                0  15.885184   \n",
       "193498           1908            445                0   6.745079   \n",
       "193499           4039            875                0   9.844508   \n",
       "193500           4760            777                0  10.000385   \n",
       "193501           3751            889              100  10.056710   \n",
       "\n",
       "        cumulative_ride_distance  cumulative_ride_duration  \\\n",
       "193497                   2357560                    265655   \n",
       "193498                   2359468                    266100   \n",
       "193499                   2363507                    266975   \n",
       "193500                   2368267                    267752   \n",
       "193501                   2372018                    268641   \n",
       "\n",
       "        cumulative_ride_prime_time  cumulative_trip_cost  \n",
       "193497                        6525           3906.194906  \n",
       "193498                        6525           3912.939985  \n",
       "193499                        6525           3922.784493  \n",
       "193500                        6525           3932.784878  \n",
       "193501                        6625           3942.841588  "
      ]
     },
     "execution_count": 37,
     "metadata": {},
     "output_type": "execute_result"
    }
   ],
   "source": [
    "ride_ids.tail()"
   ]
  },
  {
   "cell_type": "code",
   "execution_count": 38,
   "metadata": {},
   "outputs": [],
   "source": [
    "ride_ids = ride_ids.merge(total_trips, on=\"driver_id\", how=\"inner\").reset_index(drop=True)"
   ]
  },
  {
   "cell_type": "code",
   "execution_count": 39,
   "metadata": {},
   "outputs": [
    {
     "data": {
      "text/html": [
       "<div>\n",
       "<style scoped>\n",
       "    .dataframe tbody tr th:only-of-type {\n",
       "        vertical-align: middle;\n",
       "    }\n",
       "\n",
       "    .dataframe tbody tr th {\n",
       "        vertical-align: top;\n",
       "    }\n",
       "\n",
       "    .dataframe thead th {\n",
       "        text-align: right;\n",
       "    }\n",
       "</style>\n",
       "<table border=\"1\" class=\"dataframe\">\n",
       "  <thead>\n",
       "    <tr style=\"text-align: right;\">\n",
       "      <th></th>\n",
       "      <th>driver_id</th>\n",
       "      <th>ride_id</th>\n",
       "      <th>ride_distance</th>\n",
       "      <th>ride_duration</th>\n",
       "      <th>ride_prime_time</th>\n",
       "      <th>trip_cost</th>\n",
       "      <th>cumulative_ride_distance</th>\n",
       "      <th>cumulative_ride_duration</th>\n",
       "      <th>cumulative_ride_prime_time</th>\n",
       "      <th>cumulative_trip_cost</th>\n",
       "      <th>total_trips</th>\n",
       "    </tr>\n",
       "  </thead>\n",
       "  <tbody>\n",
       "    <tr>\n",
       "      <th>0</th>\n",
       "      <td>002be0ffdc997bd5c50703158b7c2491</td>\n",
       "      <td>006d61cf7446e682f7bc50b0f8a5bea5</td>\n",
       "      <td>1811</td>\n",
       "      <td>327</td>\n",
       "      <td>50</td>\n",
       "      <td>6.426432</td>\n",
       "      <td>1811</td>\n",
       "      <td>327</td>\n",
       "      <td>50</td>\n",
       "      <td>6.426432</td>\n",
       "      <td>277</td>\n",
       "    </tr>\n",
       "    <tr>\n",
       "      <th>1</th>\n",
       "      <td>002be0ffdc997bd5c50703158b7c2491</td>\n",
       "      <td>01b522c5c3a756fbdb12e95e87507eda</td>\n",
       "      <td>3362</td>\n",
       "      <td>809</td>\n",
       "      <td>0</td>\n",
       "      <td>9.118740</td>\n",
       "      <td>5173</td>\n",
       "      <td>1136</td>\n",
       "      <td>50</td>\n",
       "      <td>15.545172</td>\n",
       "      <td>277</td>\n",
       "    </tr>\n",
       "    <tr>\n",
       "      <th>2</th>\n",
       "      <td>002be0ffdc997bd5c50703158b7c2491</td>\n",
       "      <td>029227c4c2971ce69ff2274dc798ef43</td>\n",
       "      <td>3282</td>\n",
       "      <td>572</td>\n",
       "      <td>0</td>\n",
       "      <td>8.192574</td>\n",
       "      <td>8455</td>\n",
       "      <td>1708</td>\n",
       "      <td>50</td>\n",
       "      <td>23.737746</td>\n",
       "      <td>277</td>\n",
       "    </tr>\n",
       "    <tr>\n",
       "      <th>3</th>\n",
       "      <td>002be0ffdc997bd5c50703158b7c2491</td>\n",
       "      <td>034e861343a63ac3c18a9ceb1ce0ac69</td>\n",
       "      <td>65283</td>\n",
       "      <td>3338</td>\n",
       "      <td>25</td>\n",
       "      <td>62.730707</td>\n",
       "      <td>73738</td>\n",
       "      <td>5046</td>\n",
       "      <td>75</td>\n",
       "      <td>86.468453</td>\n",
       "      <td>277</td>\n",
       "    </tr>\n",
       "    <tr>\n",
       "      <th>4</th>\n",
       "      <td>002be0ffdc997bd5c50703158b7c2491</td>\n",
       "      <td>034f2e614a2f9fc7f1c2f77647d1b981</td>\n",
       "      <td>4115</td>\n",
       "      <td>823</td>\n",
       "      <td>100</td>\n",
       "      <td>10.074816</td>\n",
       "      <td>77853</td>\n",
       "      <td>5869</td>\n",
       "      <td>175</td>\n",
       "      <td>96.543269</td>\n",
       "      <td>277</td>\n",
       "    </tr>\n",
       "  </tbody>\n",
       "</table>\n",
       "</div>"
      ],
      "text/plain": [
       "                          driver_id                           ride_id  \\\n",
       "0  002be0ffdc997bd5c50703158b7c2491  006d61cf7446e682f7bc50b0f8a5bea5   \n",
       "1  002be0ffdc997bd5c50703158b7c2491  01b522c5c3a756fbdb12e95e87507eda   \n",
       "2  002be0ffdc997bd5c50703158b7c2491  029227c4c2971ce69ff2274dc798ef43   \n",
       "3  002be0ffdc997bd5c50703158b7c2491  034e861343a63ac3c18a9ceb1ce0ac69   \n",
       "4  002be0ffdc997bd5c50703158b7c2491  034f2e614a2f9fc7f1c2f77647d1b981   \n",
       "\n",
       "   ride_distance  ride_duration  ride_prime_time  trip_cost  \\\n",
       "0           1811            327               50   6.426432   \n",
       "1           3362            809                0   9.118740   \n",
       "2           3282            572                0   8.192574   \n",
       "3          65283           3338               25  62.730707   \n",
       "4           4115            823              100  10.074816   \n",
       "\n",
       "   cumulative_ride_distance  cumulative_ride_duration  \\\n",
       "0                      1811                       327   \n",
       "1                      5173                      1136   \n",
       "2                      8455                      1708   \n",
       "3                     73738                      5046   \n",
       "4                     77853                      5869   \n",
       "\n",
       "   cumulative_ride_prime_time  cumulative_trip_cost  total_trips  \n",
       "0                          50              6.426432          277  \n",
       "1                          50             15.545172          277  \n",
       "2                          50             23.737746          277  \n",
       "3                          75             86.468453          277  \n",
       "4                         175             96.543269          277  "
      ]
     },
     "execution_count": 39,
     "metadata": {},
     "output_type": "execute_result"
    }
   ],
   "source": [
    "ride_ids.head()"
   ]
  },
  {
   "cell_type": "code",
   "execution_count": 40,
   "metadata": {},
   "outputs": [],
   "source": [
    "driver_ids[\"driver_onboard_date\"] = pd.to_datetime(driver_ids[\"driver_onboard_date\"])\n",
    "driver_timestamps[\"timestamp\"] = pd.to_datetime(driver_timestamps[\"timestamp\"])"
   ]
  },
  {
   "cell_type": "code",
   "execution_count": 41,
   "metadata": {},
   "outputs": [],
   "source": [
    "#driver_timestamps = driver_timestamps.assign(\n",
    "    #timediff = driver_timestamps.sort_values('timestamp', ascending=False).groupby(\"ride_id\").timestamp.diff(-1).dt.seconds.fillna(0)\n",
    "#)\n",
    "\n",
    "# This approach didnt work because some of the times werent in order between the events for a ride "
   ]
  },
  {
   "cell_type": "code",
   "execution_count": 42,
   "metadata": {},
   "outputs": [],
   "source": [
    "df_pivot = driver_timestamps.pivot(index=\"ride_id\", columns=\"event\")\n",
    "driver_timestamps = pd.DataFrame(df_pivot.to_records())\n",
    "driver_timestamps.columns = [\"ride_id\", \"accepted_at_time\", \"arrived_at_time\", \"dropped_off_time\", \"picked_up_time\", \"requested_at_time\"]"
   ]
  },
  {
   "cell_type": "code",
   "execution_count": 43,
   "metadata": {},
   "outputs": [],
   "source": [
    "driver_timestamps.columns = [\"ride_id\", \"accepted_at_time\", \"arrived_at_time\", \"dropped_off_time\", \"picked_up_time\", \"requested_at_time\"]\n",
    "driver_timestamps[\"time_to_accept\"] = (driver_timestamps[\"accepted_at_time\"] - driver_timestamps[\"requested_at_time\"]).dt.seconds.fillna(0)\n",
    "driver_timestamps[\"time_to_arrive\"] = (driver_timestamps[\"arrived_at_time\"] - driver_timestamps[\"accepted_at_time\"]).dt.seconds.fillna(0)\n",
    "driver_timestamps[\"time_for_customer_to_arrive\"] = (driver_timestamps[\"picked_up_time\"] - driver_timestamps[\"arrived_at_time\"]).dt.seconds.fillna(0)"
   ]
  },
  {
   "cell_type": "code",
   "execution_count": 44,
   "metadata": {},
   "outputs": [],
   "source": [
    "# Merge the dataframes , to get one master dataframe.\n",
    "merged_intermediate = ride_ids.merge(driver_ids, on=\"driver_id\", how=\"outer\")\n",
    "full_df = merged_intermediate.merge(driver_timestamps, on=\"ride_id\", how=\"outer\")"
   ]
  },
  {
   "cell_type": "code",
   "execution_count": 45,
   "metadata": {},
   "outputs": [],
   "source": [
    "# Inferences\n",
    "# There are 83 drivers who dont have a ride (in driver_id dataframe but not in ride_ids)\n",
    "# There are 83 drivers who dont have onboard date (in ride_id df but not in driver_id)\n"
   ]
  },
  {
   "cell_type": "code",
   "execution_count": 46,
   "metadata": {},
   "outputs": [
    {
     "data": {
      "text/plain": [
       "driver_id                       9262\n",
       "ride_id                           83\n",
       "ride_distance                   9345\n",
       "ride_duration                   9345\n",
       "ride_prime_time                 9345\n",
       "trip_cost                       9345\n",
       "cumulative_ride_distance        9345\n",
       "cumulative_ride_duration        9345\n",
       "cumulative_ride_prime_time      9345\n",
       "cumulative_trip_cost            9345\n",
       "total_trips                     9345\n",
       "driver_onboard_date            16873\n",
       "accepted_at_time                8766\n",
       "arrived_at_time                 8767\n",
       "dropped_off_time                8766\n",
       "picked_up_time                  8766\n",
       "requested_at_time               8766\n",
       "time_to_accept                  8766\n",
       "time_to_arrive                  8766\n",
       "time_for_customer_to_arrive     8766\n",
       "dtype: int64"
      ]
     },
     "execution_count": 46,
     "metadata": {},
     "output_type": "execute_result"
    }
   ],
   "source": [
    "full_df.isna().apply(lambda x: sum(x))"
   ]
  },
  {
   "cell_type": "code",
   "execution_count": 47,
   "metadata": {},
   "outputs": [],
   "source": [
    "# Get the difference from onboard time to the last ride time\n",
    "\n",
    "last_ride_in_df = max(full_df[\"accepted_at_time\"])"
   ]
  },
  {
   "cell_type": "code",
   "execution_count": 48,
   "metadata": {},
   "outputs": [],
   "source": [
    "full_df[\"time_at_lyft\"] = (last_ride_in_df-full_df[\"driver_onboard_date\"]).dt.days"
   ]
  },
  {
   "cell_type": "code",
   "execution_count": 49,
   "metadata": {},
   "outputs": [
    {
     "data": {
      "text/plain": [
       "90.0"
      ]
     },
     "execution_count": 49,
     "metadata": {},
     "output_type": "execute_result"
    }
   ],
   "source": [
    "max(full_df[\"time_at_lyft\"])"
   ]
  },
  {
   "cell_type": "code",
   "execution_count": 50,
   "metadata": {},
   "outputs": [
    {
     "data": {
      "text/plain": [
       "42.0"
      ]
     },
     "execution_count": 50,
     "metadata": {},
     "output_type": "execute_result"
    }
   ],
   "source": [
    "min(full_df[\"time_at_lyft\"])"
   ]
  },
  {
   "cell_type": "code",
   "execution_count": 51,
   "metadata": {},
   "outputs": [],
   "source": [
    "no_onboard_date_drivers = list(set(ride_ids.driver_id.unique()).difference(set(driver_ids.driver_id.unique())))"
   ]
  },
  {
   "cell_type": "code",
   "execution_count": 56,
   "metadata": {},
   "outputs": [],
   "source": [
    "no_ride_drivers = list(set(driver_ids.driver_id.unique()).difference(set(ride_ids.driver_id.unique())))"
   ]
  },
  {
   "cell_type": "code",
   "execution_count": 57,
   "metadata": {},
   "outputs": [
    {
     "data": {
      "text/plain": [
       "83"
      ]
     },
     "execution_count": 57,
     "metadata": {},
     "output_type": "execute_result"
    }
   ],
   "source": [
    "len(no_onboard_date_drivers)"
   ]
  },
  {
   "cell_type": "code",
   "execution_count": null,
   "metadata": {},
   "outputs": [],
   "source": []
  }
 ],
 "metadata": {
  "kernelspec": {
   "display_name": "Python 3",
   "language": "python",
   "name": "python3"
  },
  "language_info": {
   "codemirror_mode": {
    "name": "ipython",
    "version": 3
   },
   "file_extension": ".py",
   "mimetype": "text/x-python",
   "name": "python",
   "nbconvert_exporter": "python",
   "pygments_lexer": "ipython3",
   "version": "3.6.4"
  }
 },
 "nbformat": 4,
 "nbformat_minor": 2
}
